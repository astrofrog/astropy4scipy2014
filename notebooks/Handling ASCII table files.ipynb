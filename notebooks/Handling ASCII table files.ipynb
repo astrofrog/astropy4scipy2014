{
 "metadata": {
  "name": "",
  "signature": "sha256:ae9be74ed88add1fb95e71d900a70b112eb0e966171c682d330463aef6386e0f"
 },
 "nbformat": 3,
 "nbformat_minor": 0,
 "worksheets": [
  {
   "cells": [
    {
     "cell_type": "heading",
     "level": 1,
     "metadata": {},
     "source": [
      "Handling ASCII table files"
     ]
    },
    {
     "cell_type": "markdown",
     "metadata": {},
     "source": [
      "The [astropy.io.ascii](http://astropy.readthedocs.org/en/stable/io/ascii/index.html) package provides methods for reading and writing a wide range of ASCII data table formats from basic character-separated tables to astronomy-specific or even application-specific formats.  \n",
      "\n",
      "This package isn't the fastest ASCII table reader/writer available, but it is one of the most flexible and most of the time it should just work out of the box.  *[But there is a Google Summer of Code 2014 student working on making it fast!]*\n",
      "\n",
      "The following shows a few of the ASCII formats that are available, while the section on [Supported formats](http://astropy.readthedocs.org/en/stable/io/ascii/index.html#id1) contains the full list.\n",
      "\n",
      "Format | Description\n",
      "------- | -------------\n",
      "[Basic](http://astropy.readthedocs.org/en/stable/api/astropy.io.ascii.basic.Basic.html) | basic table with customizable delimiters and header configurations\n",
      "[CDS](http://astropy.readthedocs.org/en/stable/api/astropy.io.ascii.cds.Cds.html) | [CDS format](http://vizier.u-strasbg.fr/doc/catstd.htx) table (also Vizier and ApJ machine readable tables)\n",
      "[DAOphot](http://astropy.readthedocs.org/en/stable/api/astropy.io.ascii.daophot.Daophot.html) | table from the IRAF DAOphot package\n",
      "[Fixed width](http://astropy.readthedocs.org/en/stable/api/astropy.io.ascii.fixedwidth.FixedWidth.html)| table with fixed-width columns (see also [Fixed-width Gallery](http://astropy.readthedocs.org/en/stable/io/ascii/fixed_width_gallery.html))\n",
      "[IPAC](http://astropy.readthedocs.org/en/stable/api/astropy.io.ascii.ipac.Ipac.html) | [IPAC format](http://irsa.ipac.caltech.edu/applications/DDGEN/Doc/ipac_tbl.html) table\n",
      "[LaTex](http://astropy.readthedocs.org/en/stable/api/astropy.io.ascii.latex.Latex.html) | LaTeX table with datavalue in the tabular environment\n",
      "[SExtractor](http://astropy.readthedocs.org/en/stable/api/astropy.io.ascii.sextractor.SExtractor.html) | SExtractor format table\n",
      "\n",
      "\n"
     ]
    },
    {
     "cell_type": "markdown",
     "metadata": {},
     "source": [
      "To make sure we are on the same page, an **ASCII data table** refers to a tabular data set where the values are encoded in ASCII and  are written in a row-oriented format where each table row is (effectively) on one line.  Frequently these data files are somewhat free format in nature and do not conform to precisely definition standards such as FITS.  \n",
      "\n",
      "Despite the advantages of using a well-defined standard to store and communicate tabular data, ASCII data tables are a fact of life for astronomers and you need to be able to read and write them effectively. "
     ]
    },
    {
     "cell_type": "heading",
     "level": 2,
     "metadata": {},
     "source": [
      "Getting started"
     ]
    },
    {
     "cell_type": "markdown",
     "metadata": {},
     "source": [
      "There are two equally valid ways of reading and writing ASCII tables within astropy:\n",
      "\n",
      "- Directly use the `astropy.io.ascii` module\n",
      "- Use the [Unified I/O interface]() with the Table class\n",
      "\n",
      "Internally there is no difference since they both end up calling the `astropy.io.ascii` routines.  It depends somewhat on your taste:\n",
      "\n",
      "    >>> from astropy.io import ascii\n",
      "    >>> pets = ascii.read(data, format='ipac')\n",
      "    >>> ascii.write(pets, 'pets.tex', format='latex')\n",
      "    \n",
      "    >>> from astropy.table import Table\n",
      "    >>> pets = Table.read(data, format='ascii.ipac')\n",
      "    >>> pets.write('pets.tex', format='ascii.latex')\n",
      "    \n",
      "**Overall we recommend using the Table interface**, because this also lets you read and write most tables in FITS or VOTable format using the same syntax.  Note that for ASCII tables there is *absolutely no functional* difference between the interfaces, while for FITS and VOTable the direct interfaces (`astropy.io.fits` and `astropy.io.votable`) have more functionality than the `Table` interface."
     ]
    },
    {
     "cell_type": "heading",
     "level": 3,
     "metadata": {},
     "source": [
      "Reading tables"
     ]
    },
    {
     "cell_type": "code",
     "collapsed": false,
     "input": [
      "from astropy.table import Table\n",
      "\n",
      "pets = Table.read(data, format='ascii')\n",
      "pets"
     ],
     "language": "python",
     "metadata": {},
     "outputs": [
      {
       "html": [
        "<table id=\"table4420854864\"><thead><tr><th>animal</th><th>number</th></tr></thead><tr><td>cat</td><td>1</td></tr><tr><td>dog</td><td>3</td></tr></table>"
       ],
       "metadata": {},
       "output_type": "pyout",
       "prompt_number": 6,
       "text": [
        "<Table rows=2 names=('animal','number')>\n",
        "array([('cat', 1), ('dog', 3)], \n",
        "      dtype=[('animal', 'S3'), ('number', '<i8')])"
       ]
      }
     ],
     "prompt_number": 6
    },
    {
     "cell_type": "code",
     "collapsed": false,
     "input": [
      "pets.write(sys.stdout, format='ascii')"
     ],
     "language": "python",
     "metadata": {},
     "outputs": [
      {
       "output_type": "stream",
       "stream": "stdout",
       "text": [
        "animal number\n",
        "cat 1\n",
        "dog 3\n"
       ]
      }
     ],
     "prompt_number": 7
    },
    {
     "cell_type": "code",
     "collapsed": false,
     "input": [
      "help(ascii.read)"
     ],
     "language": "python",
     "metadata": {},
     "outputs": [
      {
       "output_type": "stream",
       "stream": "stdout",
       "text": [
        "Help on function read in module astropy.io.ascii.ui:\n",
        "\n",
        "read(table, guess=None, **kwargs)\n",
        "    Read the input ``table`` and return the table.  Most of\n",
        "    the default behavior for various parameters is determined by the Reader\n",
        "    class.\n",
        "    \n",
        "    :param table: input table (file name, list of strings, or single newline-separated string)\n",
        "    :param guess: try to guess the table format (default=True)\n",
        "    :param format: input table format\n",
        "    :param Inputter: Inputter class\n",
        "    :param Outputter: Outputter class (default=TableOutputter)\n",
        "    :param delimiter: column delimiter string\n",
        "    :param comment: regular expression defining a comment line in table\n",
        "    :param quotechar: one-character string to quote fields containing special characters\n",
        "    :param header_start: line index for the header line not counting comment lines\n",
        "    :param data_start: line index for the start of data not counting comment lines\n",
        "    :param data_end: line index for the end of data (can be negative to count from end)\n",
        "    :param converters: dict of converters\n",
        "    :param data_Splitter: Splitter class to split data columns\n",
        "    :param header_Splitter: Splitter class to split header columns\n",
        "    :param names: list of names corresponding to each data column\n",
        "    :param include_names: list of names to include in output (default=None selects all names)\n",
        "    :param exclude_names: list of names to exlude from output (applied after ``include_names``)\n",
        "    :param fill_values: specification of fill values for bad or missing table values (default=('', '0'))\n",
        "    :param fill_include_names: list of names to include in fill_values (default=None selects all names)\n",
        "    :param fill_exclude_names: list of names to exlude from fill_values (applied after ``fill_include_names``)\n",
        "    :param Reader: Reader class (DEPRECATED) (default=``ascii.Basic``)\n",
        "\n"
       ]
      }
     ],
     "prompt_number": 8
    },
    {
     "cell_type": "code",
     "collapsed": false,
     "input": [
      "help(Table.read)"
     ],
     "language": "python",
     "metadata": {},
     "outputs": [
      {
       "output_type": "stream",
       "stream": "stdout",
       "text": [
        "Help on method read in module astropy.table.table:\n",
        "\n",
        "read(cls, *args, **kwargs) method of __builtin__.type instance\n",
        "    Read and parse a data table and return as a Table.\n",
        "    \n",
        "    This function provides the Table interface to the astropy unified I/O\n",
        "    layer.  This allows easily reading a file in many supported data formats\n",
        "    using syntax such as::\n",
        "    \n",
        "      >>> from astropy.table import Table\n",
        "      >>> dat = Table.read('table.dat', format='ascii')\n",
        "      >>> events = Table.read('events.fits', format='fits')\n",
        "    \n",
        "    The arguments and keywords (other than ``format``) provided to this function are\n",
        "    passed through to the underlying data reader (e.g. `~astropy.io.ascii.ui.read`).\n",
        "    \n",
        "    The available built-in formats are:\n",
        "    \n",
        "    =========================== ==== ===== ============= ==========\n",
        "               Format           Read Write Auto-identify Deprecated\n",
        "    =========================== ==== ===== ============= ==========\n",
        "                          ascii  Yes   Yes            No           \n",
        "                   ascii.aastex  Yes   Yes            No           \n",
        "                    ascii.basic  Yes   Yes            No           \n",
        "                      ascii.cds  Yes    No            No           \n",
        "         ascii.commented_header  Yes   Yes            No           \n",
        "                  ascii.daophot  Yes    No            No           \n",
        "              ascii.fixed_width  Yes   Yes            No           \n",
        "    ascii.fixed_width_no_header  Yes   Yes            No           \n",
        "     ascii.fixed_width_two_line  Yes   Yes            No           \n",
        "                     ascii.ipac  Yes   Yes            No           \n",
        "                    ascii.latex  Yes   Yes           Yes           \n",
        "                ascii.no_header  Yes   Yes            No           \n",
        "                      ascii.rdb  Yes   Yes           Yes           \n",
        "               ascii.sextractor  Yes    No            No           \n",
        "                      ascii.tab  Yes   Yes            No           \n",
        "                           fits  Yes   Yes           Yes           \n",
        "                           hdf5  Yes   Yes           Yes           \n",
        "                        votable  Yes   Yes           Yes           \n",
        "                         aastex  Yes   Yes            No        Yes\n",
        "                            cds  Yes    No            No        Yes\n",
        "                        daophot  Yes    No            No        Yes\n",
        "                           ipac  Yes   Yes            No        Yes\n",
        "                          latex  Yes   Yes            No        Yes\n",
        "                            rdb  Yes   Yes            No        Yes\n",
        "    =========================== ==== ===== ============= ==========\n",
        "    \n",
        "    Deprecated format names like ``aastex`` will be removed in a future version.\n",
        "    Use the full name (e.g. ``ascii.aastex``) instead.\n",
        "\n"
       ]
      }
     ],
     "prompt_number": 9
    },
    {
     "cell_type": "code",
     "collapsed": false,
     "input": [
      "import astropy.io.votable"
     ],
     "language": "python",
     "metadata": {},
     "outputs": [],
     "prompt_number": 10
    },
    {
     "cell_type": "code",
     "collapsed": false,
     "input": [],
     "language": "python",
     "metadata": {},
     "outputs": []
    }
   ],
   "metadata": {}
  }
 ]
}