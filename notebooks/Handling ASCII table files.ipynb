{
 "metadata": {
  "name": "",
  "signature": "sha256:4cf20f37980209f2c6bf095cf57d8e78fccbe1bc0ce8e8e6f304e136650103d0"
 },
 "nbformat": 3,
 "nbformat_minor": 0,
 "worksheets": [
  {
   "cells": [
    {
     "cell_type": "markdown",
     "metadata": {},
     "source": [
      "The [astropy.io.ascii](http://astropy.readthedocs.org/en/stable/io/ascii/index.html) package provides methods for reading and writing a wide range of ASCII data table formats via built-in Extension Reader classes. The emphasis is on flexibility and ease of use.\n",
      "\n",
      "The following shows a few of the ASCII formats that are available, while the section on Supported formats contains the full list.\n",
      "\n",
      "Format | Description\n",
      "------- | -------------\n",
      "Basic | basic table with customizable delimiters and header configurations\n",
      "CDS | CDS format table (also Vizier and ApJ machine readable tables)\n",
      "Daophot | table from the IRAF DAOphot package\n",
      "Fixed width | table with fixed-width columns (see also Fixed-width Gallery)\n",
      "IPAC | IPAC format table\n",
      "LaTex | LaTeX table with datavalue in the tabular environment\n",
      "SExtractor | SExtractor format table\n"
     ]
    },
    {
     "cell_type": "code",
     "collapsed": false,
     "input": [],
     "language": "python",
     "metadata": {},
     "outputs": []
    }
   ],
   "metadata": {}
  }
 ]
}