{
 "metadata": {
  "name": "",
  "signature": "sha256:0f1ee7b9650f933e43dd1305fe57431f9bde97e6f227a016fb682b500c408cd3"
 },
 "nbformat": 3,
 "nbformat_minor": 0,
 "worksheets": [
  {
   "cells": [
    {
     "cell_type": "heading",
     "level": 1,
     "metadata": {},
     "source": [
      "Read Chandra Source Catalog data using the web API"
     ]
    },
    {
     "cell_type": "markdown",
     "metadata": {},
     "source": [
      "Read data from the [Chandra Source Catalog](http://cxc.harvard.edu/csc/) and write to FITS files.  In particular read the properties of sources from a series of 21 [Chandra Deep Field South](http://cxc.harvard.edu/cdo/cdfs.html) observations taken during 2000 and 2007."
     ]
    },
    {
     "cell_type": "code",
     "collapsed": false,
     "input": [
      "import requests\n",
      "from astropy.table import Table"
     ],
     "language": "python",
     "metadata": {},
     "outputs": [],
     "prompt_number": 9
    },
    {
     "cell_type": "code",
     "collapsed": false,
     "input": [
      "csc_url ='http://cda.cfa.harvard.edu/csccli/getProperties'"
     ],
     "language": "python",
     "metadata": {},
     "outputs": [],
     "prompt_number": 10
    },
    {
     "cell_type": "code",
     "collapsed": false,
     "input": [
      "# Get master source list where sources detected in individual observations\n",
      "# have been correlated and identified as a unique X-ray source on the sky.\n",
      "# - ``msid`` is the unique master source identifier.  \n",
      "# - ``name`` is the source name in the Chandra catalog\n",
      "master_query = \"\"\"\n",
      "SELECT\n",
      "  m.msid,\n",
      "  m.name,\n",
      "  m.ra,\n",
      "  m.dec\n",
      "FROM master_source m\n",
      "WHERE dbo.cone_distance(m.ra, m.dec, 53.1175, -27.81)<=10\n",
      "\"\"\""
     ],
     "language": "python",
     "metadata": {},
     "outputs": [],
     "prompt_number": 11
    },
    {
     "cell_type": "code",
     "collapsed": false,
     "input": [
      "# Do the web request\n",
      "request = requests.get(csc_url, params={'query': master_query})"
     ],
     "language": "python",
     "metadata": {},
     "outputs": [],
     "prompt_number": 12
    },
    {
     "cell_type": "code",
     "collapsed": false,
     "input": [
      "# Read the CSV-formatted result into a table\n",
      "master_sources = Table.read(request.text, format='ascii')"
     ],
     "language": "python",
     "metadata": {},
     "outputs": [],
     "prompt_number": 13
    },
    {
     "cell_type": "code",
     "collapsed": false,
     "input": [
      "# Write to the tutorial dataset as a FITS file\n",
      "master_sources.write('../data/cdfs_master_sources.fits', overwrite=True)"
     ],
     "language": "python",
     "metadata": {},
     "outputs": [],
     "prompt_number": 14
    },
    {
     "cell_type": "code",
     "collapsed": false,
     "input": [
      "# Get the source properties from individual observations\n",
      "obs_query = \"\"\"\n",
      "SELECT\n",
      "  o.obsid,\n",
      "  o.obi,\n",
      "  o.targname,\n",
      "  o.gti_obs,\n",
      "  o.flux_aper_b,\n",
      "  o.src_cnts_aper_b,\n",
      "  o.ra_b,\n",
      "  o.dec_b,\n",
      "  o.livetime,\n",
      "  o.posid,\n",
      "  o.theta,\n",
      "  a.msid\n",
      "FROM master_obi_assoc a, obi_source o\n",
      "WHERE o.obsid IN (441,582,2406,2405,2312,1672,2409,2313,2239,\n",
      "        8591,9593,9718,8593,8597,8595,8592,8596,\n",
      "        9575,9578,8594,9596)\n",
      "       AND a.match_type = 'u'\n",
      "       AND a.posid=o.posid\n",
      "       AND o.flux_aper_b > 0\n",
      "\"\"\""
     ],
     "language": "python",
     "metadata": {},
     "outputs": [],
     "prompt_number": 18
    },
    {
     "cell_type": "code",
     "collapsed": false,
     "input": [
      "request = requests.get(csc_url, params={'query': obs_query})\n",
      "obs_sources = Table.read(request.text, format='ascii')"
     ],
     "language": "python",
     "metadata": {},
     "outputs": [],
     "prompt_number": 19
    },
    {
     "cell_type": "code",
     "collapsed": false,
     "input": [
      "obs_sources.write('../data/cdfs_obs_sources.fits', overwrite=True)"
     ],
     "language": "python",
     "metadata": {},
     "outputs": [],
     "prompt_number": 20
    },
    {
     "cell_type": "code",
     "collapsed": false,
     "input": [],
     "language": "python",
     "metadata": {},
     "outputs": []
    }
   ],
   "metadata": {}
  }
 ]
}